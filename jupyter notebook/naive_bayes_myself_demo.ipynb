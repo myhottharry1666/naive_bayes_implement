{
 "cells": [
  {
   "cell_type": "markdown",
   "metadata": {},
   "source": [
    "Here's a demo using my MultinomialNB."
   ]
  },
  {
   "cell_type": "code",
   "execution_count": 6,
   "metadata": {},
   "outputs": [],
   "source": [
    "import naive_bayes_by_myself as nbm\n",
    "\n",
    "from sklearn.datasets import fetch_20newsgroups\n",
    "from sklearn.model_selection import train_test_split\n",
    "import numpy as np"
   ]
  },
  {
   "cell_type": "code",
   "execution_count": 8,
   "metadata": {},
   "outputs": [],
   "source": [
    "# download fetch_20newsgroups dataset\n",
    "# the original dataset is too huge, we will use a subdataset with the following labels\n",
    "# ['alt.atheism', 'soc.religion.christian', 'comp.graphics', 'sci.med']\n",
    "categories = ['alt.atheism', 'soc.religion.christian', 'comp.graphics', 'sci.med']\n",
    "twenty_dataset = fetch_20newsgroups(categories=categories, shuffle=True, random_state=42)\n",
    "\n",
    "# split the dataset into train and test subset\n",
    "x_train, x_test, y_train, y_test = train_test_split(twenty_dataset.data, twenty_dataset.target, test_size=0.3)"
   ]
  },
  {
   "cell_type": "code",
   "execution_count": 10,
   "metadata": {},
   "outputs": [],
   "source": [
    "# train Multinomial Naive Bayes Classifier\n",
    "model = nbm.MultinomialNB()\n",
    "model.train(x_train, y_train)"
   ]
  },
  {
   "cell_type": "code",
   "execution_count": 11,
   "metadata": {},
   "outputs": [
    {
     "name": "stdout",
     "output_type": "stream",
     "text": [
      "accuracy: 0.8938053097345132\n"
     ]
    }
   ],
   "source": [
    "# evaluate trained model by test dataset\n",
    "predicted = model.predict(x_test)\n",
    "accuracy = np.mean(predicted == y_test)\n",
    "print(\"accuracy:\", accuracy)"
   ]
  }
 ],
 "metadata": {
  "kernelspec": {
   "display_name": "Python 3.7.4 ('base')",
   "language": "python",
   "name": "python3"
  },
  "language_info": {
   "codemirror_mode": {
    "name": "ipython",
    "version": 3
   },
   "file_extension": ".py",
   "mimetype": "text/x-python",
   "name": "python",
   "nbconvert_exporter": "python",
   "pygments_lexer": "ipython3",
   "version": "3.7.4"
  },
  "orig_nbformat": 4,
  "vscode": {
   "interpreter": {
    "hash": "0b4d8e445a9f2f8d06e31882fe1343899bd6d7b1e6039036b3ec06740c9db88e"
   }
  }
 },
 "nbformat": 4,
 "nbformat_minor": 2
}
